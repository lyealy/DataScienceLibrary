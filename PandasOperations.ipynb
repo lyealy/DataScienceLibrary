{
 "cells": [
  {
   "cell_type": "code",
   "execution_count": 1,
   "metadata": {},
   "outputs": [
    {
     "data": {
      "application/javascript": [
       "IPython.notebook.set_autosave_interval(9999000)"
      ]
     },
     "metadata": {},
     "output_type": "display_data"
    },
    {
     "name": "stdout",
     "output_type": "stream",
     "text": [
      "Autosaving every 9999 seconds\n"
     ]
    }
   ],
   "source": [
    "%autosave 9999"
   ]
  },
  {
   "cell_type": "code",
   "execution_count": 2,
   "metadata": {
    "collapsed": true
   },
   "outputs": [],
   "source": [
    "import numpy as np\n",
    "import pandas as pd"
   ]
  },
  {
   "cell_type": "markdown",
   "metadata": {},
   "source": [
    "# Series"
   ]
  },
  {
   "cell_type": "code",
   "execution_count": 3,
   "metadata": {},
   "outputs": [
    {
     "data": {
      "text/plain": [
       "Values\n",
       "a   -0.684337\n",
       "b    0.572485\n",
       "c    0.405541\n",
       "Name: S1, dtype: float64"
      ]
     },
     "execution_count": 3,
     "metadata": {},
     "output_type": "execute_result"
    }
   ],
   "source": [
    "s1 = pd.Series(np.random.randn(3,),index=['a','b','c'])\n",
    "s1.name = 'S1'\n",
    "s1.index.name = 'Values'\n",
    "s1"
   ]
  },
  {
   "cell_type": "markdown",
   "metadata": {},
   "source": [
    "# Series: values, index, get values through index and mask operations and element operations"
   ]
  },
  {
   "cell_type": "code",
   "execution_count": 4,
   "metadata": {},
   "outputs": [
    {
     "name": "stdout",
     "output_type": "stream",
     "text": [
      "[-0.68433733  0.57248485  0.40554115]\n",
      "Index(['a', 'b', 'c'], dtype='object', name='Values')\n",
      "-0.684337326901\n",
      "Values\n",
      "b    0.572485\n",
      "c    0.405541\n",
      "Name: S1, dtype: float64\n",
      "Values\n",
      "b    0.572485\n",
      "c    0.405541\n",
      "Name: S1, dtype: float64\n",
      "Values\n",
      "a    0.684337\n",
      "b    0.572485\n",
      "c    0.405541\n",
      "Name: S1, dtype: float64\n",
      "Values\n",
      "a    0.504424\n",
      "b    1.772666\n",
      "c    1.500114\n",
      "Name: S1, dtype: float64\n"
     ]
    }
   ],
   "source": [
    "print(s1.values,s1.index,sep='\\n')\n",
    "print(s1['a'],s1[['b','c']],sep='\\n')\n",
    "print(s1[s1>0])\n",
    "print(np.abs(s1),np.exp(s1),sep='\\n')"
   ]
  },
  {
   "cell_type": "markdown",
   "metadata": {},
   "source": [
    "# DataFrame"
   ]
  },
  {
   "cell_type": "code",
   "execution_count": 5,
   "metadata": {},
   "outputs": [
    {
     "name": "stdout",
     "output_type": "stream",
     "text": [
      "Columns  a  b  c\n",
      "Index           \n",
      "K        1  4  7\n",
      "L        2  5  8\n",
      "1        3  6  9\n",
      "Columns  a  b  c\n",
      "Index           \n",
      "K        0  1  2\n",
      "L        3  4  5\n",
      "1        6  7  8\n"
     ]
    }
   ],
   "source": [
    "data_raw = {'a':np.arange(1,4),'b':np.arange(4,7),'c':np.arange(7,10)}\n",
    "df1 = pd.DataFrame(data_raw,index=['K','L',1])\n",
    "df1.index.name = 'Index'\n",
    "df1.columns.name = 'Columns'\n",
    "print(df1)\n",
    "\n",
    "df2 = pd.DataFrame(data=np.arange(9).reshape(3,3),index=['K','L',1],columns=['a','b','c'])\n",
    "df2.index.name = 'Index'\n",
    "df2.columns.name = 'Columns'\n",
    "print(df2)"
   ]
  },
  {
   "cell_type": "markdown",
   "metadata": {},
   "source": [
    "# DataFrame: values, index, columns, get values through index and columns "
   ]
  },
  {
   "cell_type": "code",
   "execution_count": 6,
   "metadata": {},
   "outputs": [
    {
     "name": "stdout",
     "output_type": "stream",
     "text": [
      "[[1 4 7]\n",
      " [2 5 8]\n",
      " [3 6 9]]\n",
      "Index(['K', 'L', 1], dtype='object', name='Index')\n",
      "Index(['a', 'b', 'c'], dtype='object', name='Columns')\n",
      "Index\n",
      "K    1\n",
      "L    2\n",
      "1    3\n",
      "Name: a, dtype: int64\n",
      "Columns  a  b\n",
      "Index        \n",
      "K        1  4\n",
      "L        2  5\n",
      "1        3  6\n",
      "Columns\n",
      "a    2\n",
      "b    5\n",
      "c    8\n",
      "Name: L, dtype: int64\n",
      "Columns\n",
      "a    3\n",
      "b    6\n",
      "c    9\n",
      "Name: 1, dtype: int64\n"
     ]
    }
   ],
   "source": [
    "print(df1.values,df1.index,df1.columns,sep='\\n')\n",
    "print(df1['a'],df1[['a','b']],sep='\\n') # columns\n",
    "print(df1.iloc[1],df1.loc[1],sep='\\n') # iloc the 1st row, loc the row with index 1"
   ]
  },
  {
   "cell_type": "markdown",
   "metadata": {},
   "source": [
    "# DataFrame: add columns"
   ]
  },
  {
   "cell_type": "code",
   "execution_count": 7,
   "metadata": {},
   "outputs": [
    {
     "data": {
      "text/html": [
       "<div>\n",
       "<style>\n",
       "    .dataframe thead tr:only-child th {\n",
       "        text-align: right;\n",
       "    }\n",
       "\n",
       "    .dataframe thead th {\n",
       "        text-align: left;\n",
       "    }\n",
       "\n",
       "    .dataframe tbody tr th {\n",
       "        vertical-align: top;\n",
       "    }\n",
       "</style>\n",
       "<table border=\"1\" class=\"dataframe\">\n",
       "  <thead>\n",
       "    <tr style=\"text-align: right;\">\n",
       "      <th>Columns</th>\n",
       "      <th>a</th>\n",
       "      <th>b</th>\n",
       "      <th>c</th>\n",
       "      <th>d</th>\n",
       "      <th>e</th>\n",
       "      <th>f</th>\n",
       "    </tr>\n",
       "    <tr>\n",
       "      <th>Index</th>\n",
       "      <th></th>\n",
       "      <th></th>\n",
       "      <th></th>\n",
       "      <th></th>\n",
       "      <th></th>\n",
       "      <th></th>\n",
       "    </tr>\n",
       "  </thead>\n",
       "  <tbody>\n",
       "    <tr>\n",
       "      <th>K</th>\n",
       "      <td>1</td>\n",
       "      <td>4</td>\n",
       "      <td>7</td>\n",
       "      <td>NaN</td>\n",
       "      <td>16.5</td>\n",
       "      <td>1</td>\n",
       "    </tr>\n",
       "    <tr>\n",
       "      <th>L</th>\n",
       "      <td>2</td>\n",
       "      <td>5</td>\n",
       "      <td>8</td>\n",
       "      <td>NaN</td>\n",
       "      <td>16.5</td>\n",
       "      <td>2</td>\n",
       "    </tr>\n",
       "    <tr>\n",
       "      <th>1</th>\n",
       "      <td>3</td>\n",
       "      <td>6</td>\n",
       "      <td>9</td>\n",
       "      <td>NaN</td>\n",
       "      <td>16.5</td>\n",
       "      <td>3</td>\n",
       "    </tr>\n",
       "  </tbody>\n",
       "</table>\n",
       "</div>"
      ],
      "text/plain": [
       "Columns  a  b  c   d     e  f\n",
       "Index                        \n",
       "K        1  4  7 NaN  16.5  1\n",
       "L        2  5  8 NaN  16.5  2\n",
       "1        3  6  9 NaN  16.5  3"
      ]
     },
     "execution_count": 7,
     "metadata": {},
     "output_type": "execute_result"
    }
   ],
   "source": [
    "df1['d'] = np.NaN\n",
    "df1['e'] = 16.5\n",
    "df1['f'] = np.arange(1,4)\n",
    "df1"
   ]
  },
  {
   "cell_type": "markdown",
   "metadata": {},
   "source": [
    "# DataFrame: add Series as new columns"
   ]
  },
  {
   "cell_type": "code",
   "execution_count": 8,
   "metadata": {},
   "outputs": [
    {
     "data": {
      "text/html": [
       "<div>\n",
       "<style>\n",
       "    .dataframe thead tr:only-child th {\n",
       "        text-align: right;\n",
       "    }\n",
       "\n",
       "    .dataframe thead th {\n",
       "        text-align: left;\n",
       "    }\n",
       "\n",
       "    .dataframe tbody tr th {\n",
       "        vertical-align: top;\n",
       "    }\n",
       "</style>\n",
       "<table border=\"1\" class=\"dataframe\">\n",
       "  <thead>\n",
       "    <tr style=\"text-align: right;\">\n",
       "      <th>Columns</th>\n",
       "      <th>a</th>\n",
       "      <th>b</th>\n",
       "      <th>c</th>\n",
       "      <th>d</th>\n",
       "      <th>e</th>\n",
       "      <th>f</th>\n",
       "      <th>s1</th>\n",
       "    </tr>\n",
       "    <tr>\n",
       "      <th>Index</th>\n",
       "      <th></th>\n",
       "      <th></th>\n",
       "      <th></th>\n",
       "      <th></th>\n",
       "      <th></th>\n",
       "      <th></th>\n",
       "      <th></th>\n",
       "    </tr>\n",
       "  </thead>\n",
       "  <tbody>\n",
       "    <tr>\n",
       "      <th>K</th>\n",
       "      <td>1</td>\n",
       "      <td>4</td>\n",
       "      <td>7</td>\n",
       "      <td>NaN</td>\n",
       "      <td>16.5</td>\n",
       "      <td>1</td>\n",
       "      <td>ssK</td>\n",
       "    </tr>\n",
       "    <tr>\n",
       "      <th>L</th>\n",
       "      <td>2</td>\n",
       "      <td>5</td>\n",
       "      <td>8</td>\n",
       "      <td>NaN</td>\n",
       "      <td>16.5</td>\n",
       "      <td>2</td>\n",
       "      <td>NaN</td>\n",
       "    </tr>\n",
       "    <tr>\n",
       "      <th>1</th>\n",
       "      <td>3</td>\n",
       "      <td>6</td>\n",
       "      <td>9</td>\n",
       "      <td>NaN</td>\n",
       "      <td>16.5</td>\n",
       "      <td>3</td>\n",
       "      <td>ss1</td>\n",
       "    </tr>\n",
       "  </tbody>\n",
       "</table>\n",
       "</div>"
      ],
      "text/plain": [
       "Columns  a  b  c   d     e  f   s1\n",
       "Index                             \n",
       "K        1  4  7 NaN  16.5  1  ssK\n",
       "L        2  5  8 NaN  16.5  2  NaN\n",
       "1        3  6  9 NaN  16.5  3  ss1"
      ]
     },
     "execution_count": 8,
     "metadata": {},
     "output_type": "execute_result"
    }
   ],
   "source": [
    "s1 = pd.Series(['ssK','ss1'], index = ['K',1])\n",
    "df1['s1'] = s1\n",
    "df1"
   ]
  },
  {
   "cell_type": "markdown",
   "metadata": {},
   "source": [
    "# DataFrame: create new columns based on old columns, and dataframe transpose"
   ]
  },
  {
   "cell_type": "code",
   "execution_count": 9,
   "metadata": {},
   "outputs": [
    {
     "name": "stdout",
     "output_type": "stream",
     "text": [
      "Columns  a  b  c   d     e  f   s1  s1_nan?\n",
      "Index                                      \n",
      "K        1  4  7 NaN  16.5  1  ssK    False\n",
      "L        2  5  8 NaN  16.5  2  NaN     True\n",
      "1        3  6  9 NaN  16.5  3  ss1    False\n",
      "Index        K     L      1\n",
      "Columns                    \n",
      "a            1     2      3\n",
      "b            4     5      6\n",
      "c            7     8      9\n",
      "d          NaN   NaN    NaN\n",
      "e         16.5  16.5   16.5\n",
      "f            1     2      3\n",
      "s1         ssK   NaN    ss1\n",
      "s1_nan?  False  True  False\n"
     ]
    }
   ],
   "source": [
    "df1['s1_nan?'] = df1['s1'].isnull()\n",
    "print(df1,df1.T,sep='\\n')"
   ]
  },
  {
   "cell_type": "markdown",
   "metadata": {},
   "source": [
    "# Reindexing-Series: Change rows, add NaN or fill with values"
   ]
  },
  {
   "cell_type": "code",
   "execution_count": 10,
   "metadata": {},
   "outputs": [
    {
     "name": "stdout",
     "output_type": "stream",
     "text": [
      "b    2\n",
      "c    3\n",
      "a    1\n",
      "dtype: int64\n",
      "b    2.0\n",
      "e    NaN\n",
      "dtype: float64\n",
      "b    2\n",
      "e    0\n",
      "dtype: int64\n",
      "0    NaN\n",
      "1    1.0\n",
      "2    NaN\n",
      "3    2.0\n",
      "4    NaN\n",
      "5    3.0\n",
      "dtype: float64\n",
      "0    NaN\n",
      "1    1.0\n",
      "2    1.0\n",
      "3    2.0\n",
      "4    2.0\n",
      "5    3.0\n",
      "dtype: float64\n",
      "0    1\n",
      "1    1\n",
      "2    2\n",
      "3    2\n",
      "4    3\n",
      "5    3\n",
      "dtype: int64\n"
     ]
    }
   ],
   "source": [
    "s1 = pd.Series(range(1,4),index=['a','b','c'])\n",
    "print(s1.reindex(['b','c','a']))\n",
    "print(s1.reindex(['b','e']))\n",
    "print(s1.reindex(['b','e'],fill_value = 0))\n",
    "\n",
    "s2 = pd.Series(range(1,4),index=[1,3,5])\n",
    "print(s2.reindex(range(6)))\n",
    "print(s2.reindex(range(6),method='ffill'))\n",
    "print(s2.reindex(range(6),method='bfill'))"
   ]
  },
  {
   "cell_type": "markdown",
   "metadata": {},
   "source": [
    "# Reindexing-DataFrame: Change rows, columns add NaN or fill with values"
   ]
  },
  {
   "cell_type": "code",
   "execution_count": 11,
   "metadata": {},
   "outputs": [
    {
     "name": "stdout",
     "output_type": "stream",
     "text": [
      "     b    c    a   e\n",
      "2  4.0  5.0  3.0 NaN\n",
      "3  7.0  8.0  6.0 NaN\n",
      "1  1.0  2.0  0.0 NaN\n",
      "4  NaN  NaN  NaN NaN\n",
      "   b  c  a  e\n",
      "2  4  5  3  0\n",
      "3  7  8  6  0\n",
      "1  1  2  0  0\n",
      "4  0  0  0  0\n",
      "     b    c    a    e\n",
      "2  4.0  5.0  3.0  0.0\n",
      "3  7.0  8.0  6.0  0.0\n",
      "1  1.0  2.0  0.0  0.0\n",
      "4  0.0  0.0  0.0  0.0\n"
     ]
    }
   ],
   "source": [
    "df3 = pd.DataFrame(np.arange(9).reshape(3,3),index = [1,2,3],columns = ['a','b','c'])\n",
    "print(df3.reindex(index=[2,3,1,4],columns=['b','c','a','e']))\n",
    "print(df3.reindex(index=[2,3,1,4],columns=['b','c','a','e'],fill_value=0))\n",
    "print(df3.reindex(index=[2,3,1,4],columns=['b','c','a','e']).fillna(0))"
   ]
  },
  {
   "cell_type": "markdown",
   "metadata": {},
   "source": [
    "# Dropping-Series: drop elements and NaN"
   ]
  },
  {
   "cell_type": "code",
   "execution_count": 12,
   "metadata": {},
   "outputs": [
    {
     "name": "stdout",
     "output_type": "stream",
     "text": [
      "a    1.0\n",
      "b    2.0\n",
      "c    3.0\n",
      "d    NaN\n",
      "e    5.0\n",
      "dtype: float64\n",
      "b    2.0\n",
      "c    3.0\n",
      "d    NaN\n",
      "dtype: float64\n",
      "a    1.0\n",
      "b    2.0\n",
      "c    3.0\n",
      "e    5.0\n",
      "dtype: float64\n"
     ]
    }
   ],
   "source": [
    "s1 = pd.Series([1,2,3,np.NaN,5],index = ['a','b','c','d','e'])\n",
    "print(s1)\n",
    "print(s1.drop(['a','e']))\n",
    "print(s1.dropna())"
   ]
  },
  {
   "cell_type": "markdown",
   "metadata": {},
   "source": [
    "# Dropping-DataFrame: drop rows, columns and NaN"
   ]
  },
  {
   "cell_type": "code",
   "execution_count": 13,
   "metadata": {},
   "outputs": [
    {
     "name": "stdout",
     "output_type": "stream",
     "text": [
      "     a    b    c   d\n",
      "0  NaN  NaN  NaN NaN\n",
      "1  0.0  1.0  2.0 NaN\n",
      "2  3.0  4.0  5.0 NaN\n",
      "3  6.0  7.0  8.0 NaN\n",
      "     a    b    c   d\n",
      "0  NaN  NaN  NaN NaN\n",
      "3  6.0  7.0  8.0 NaN\n",
      "     c   d\n",
      "0  NaN NaN\n",
      "1  2.0 NaN\n",
      "2  5.0 NaN\n",
      "3  8.0 NaN\n",
      "     a    b    c   d\n",
      "1  0.0  1.0  2.0 NaN\n",
      "2  3.0  4.0  5.0 NaN\n",
      "3  6.0  7.0  8.0 NaN\n",
      "     a    b    c\n",
      "0  NaN  NaN  NaN\n",
      "1  0.0  1.0  2.0\n",
      "2  3.0  4.0  5.0\n",
      "3  6.0  7.0  8.0\n"
     ]
    }
   ],
   "source": [
    "df4=df3.reindex(columns=['a','b','c','d'],index=[0,1,2,3])\n",
    "print(df4)\n",
    "print(df4.drop([1,2]))\n",
    "print(df4.drop(['a','b'],axis=1))\n",
    "print(df4.dropna(how='all'))\n",
    "print(df4.dropna(how='all',axis=1))"
   ]
  },
  {
   "cell_type": "markdown",
   "metadata": {},
   "source": [
    "# Mask operation-DataFrame: element operation and row operation"
   ]
  },
  {
   "cell_type": "code",
   "execution_count": 14,
   "metadata": {},
   "outputs": [
    {
     "name": "stdout",
     "output_type": "stream",
     "text": [
      "   a  b  c\n",
      "1  0  1  2\n",
      "2  3  4  5\n",
      "3  6  7  8\n",
      "   a  b  c\n",
      "2  3  4  5\n",
      "3  6  7  8\n",
      "   a  b  c\n",
      "1  0  0  0\n",
      "2  0  0  5\n",
      "3  6  7  8\n"
     ]
    }
   ],
   "source": [
    "df = pd.DataFrame(np.arange(9).reshape(3,3),index=[1,2,3],columns=['a','b','c'])\n",
    "print(df)\n",
    "print(df[df['c']>2])\n",
    "df[df<5]=0\n",
    "print(df)"
   ]
  },
  {
   "cell_type": "markdown",
   "metadata": {},
   "source": [
    "# Function apply: Series-map, DataFrame-applymap and apply"
   ]
  },
  {
   "cell_type": "code",
   "execution_count": 15,
   "metadata": {},
   "outputs": [
    {
     "name": "stdout",
     "output_type": "stream",
     "text": [
      "   a  b  c\n",
      "1  0  0  0\n",
      "2  0  0  5\n",
      "3  6  7  8\n",
      "1     True\n",
      "2     True\n",
      "3    False\n",
      "Name: b, dtype: bool\n",
      "       a      b      c\n",
      "1   True   True   True\n",
      "2   True   True  False\n",
      "3  False  False  False\n",
      "a    6\n",
      "b    7\n",
      "c    8\n",
      "dtype: int64\n",
      "1    0\n",
      "2    5\n",
      "3    8\n",
      "dtype: int64\n"
     ]
    }
   ],
   "source": [
    "def zero2TF_element(x):\n",
    "    if x==0:\n",
    "        return True\n",
    "    else:\n",
    "        return False\n",
    "print(df)\n",
    "print(df['b'].map(zero2TF_element))\n",
    "print(df.applymap(zero2TF_element))\n",
    "print(df.apply(max))\n",
    "print(df.apply(max,axis=1))"
   ]
  },
  {
   "cell_type": "markdown",
   "metadata": {},
   "source": [
    "# DataFrame: row/column elements operations\n",
    "By default, arithmetic between DataFrame and Series matches the index of the Series on the DataFrame's columns."
   ]
  },
  {
   "cell_type": "code",
   "execution_count": 16,
   "metadata": {},
   "outputs": [
    {
     "name": "stdout",
     "output_type": "stream",
     "text": [
      "   a  b  c\n",
      "1  1  2  3\n",
      "2  4  5  6\n",
      "3  7  8  9\n",
      "1    1\n",
      "2    2\n",
      "3    3\n",
      "dtype: int64\n",
      "    a   b   c   1   2   3\n",
      "1 NaN NaN NaN NaN NaN NaN\n",
      "2 NaN NaN NaN NaN NaN NaN\n",
      "3 NaN NaN NaN NaN NaN NaN\n",
      "   a  b  c\n",
      "1  0  0  0\n",
      "2  3  3  3\n",
      "3  6  6  6\n",
      "   a  b  c\n",
      "1  0  0  0\n",
      "2  3  3  3\n",
      "3  6  6  6\n",
      "   a  b  c\n",
      "1  0  1  2\n",
      "2  2  3  4\n",
      "3  4  5  6\n"
     ]
    }
   ],
   "source": [
    "df = pd.DataFrame(np.arange(1,10).reshape(3,3),index=[1,2,3],columns=['a','b','c'])\n",
    "s1 = pd.Series([1,2,3],index=[1,2,3])\n",
    "s2 = pd.Series([1,2,3],index=['a','b','c'])\n",
    "print(df,s1,sep='\\n')\n",
    "# defult is column operations\n",
    "print(df-s1)\n",
    "print(df-s2)\n",
    "print(df-s1.values)\n",
    "\n",
    "# do row operation\n",
    "print(df.add(-s1.values,axis=0))\n"
   ]
  },
  {
   "cell_type": "markdown",
   "metadata": {},
   "source": [
    "# Sorting-Series"
   ]
  },
  {
   "cell_type": "code",
   "execution_count": 17,
   "metadata": {},
   "outputs": [
    {
     "name": "stdout",
     "output_type": "stream",
     "text": [
      "b    0\n",
      "c    1\n",
      "d    2\n",
      "a    3\n",
      "dtype: int64\n",
      "a    3\n",
      "b    0\n",
      "c    1\n",
      "d    2\n",
      "dtype: int64\n",
      "b    0\n",
      "c    1\n",
      "d    2\n",
      "a    3\n",
      "dtype: int64\n"
     ]
    }
   ],
   "source": [
    "s1 = pd.Series(range(4),index=['b','c','d','a'])\n",
    "print(s1)\n",
    "print(s1.sort_index())\n",
    "print(s1.sort_index().sort_values())"
   ]
  },
  {
   "cell_type": "markdown",
   "metadata": {},
   "source": [
    "# Sorting-DataFrame"
   ]
  },
  {
   "cell_type": "code",
   "execution_count": 18,
   "metadata": {},
   "outputs": [
    {
     "name": "stdout",
     "output_type": "stream",
     "text": [
      "   a  c  b\n",
      "3  9  8  7\n",
      "2  6  5  4\n",
      "1  3  2  1\n",
      "   a  c  b\n",
      "1  3  2  1\n",
      "2  6  5  4\n",
      "3  9  8  7\n",
      "   a  b  c\n",
      "3  9  7  8\n",
      "2  6  4  5\n",
      "1  3  1  2\n",
      "   a  c  b\n",
      "1  3  2  1\n",
      "2  6  5  4\n",
      "3  9  8  7\n",
      "   b  c  a\n",
      "3  7  8  9\n",
      "2  4  5  6\n",
      "1  1  2  3\n"
     ]
    }
   ],
   "source": [
    "df = pd.DataFrame(np.arange(9,0,-1).reshape(3,3),index=[3,2,1],columns=['a','c','b'])\n",
    "print(df)\n",
    "print(df.sort_index())  # sort according to index\n",
    "print(df.sort_index(axis=1)) # sort according to columns\n",
    "print(df.sort_values('c')) # sort by column 'c'\n",
    "print(df.sort_values(1,axis=1)) # sort by row 1"
   ]
  },
  {
   "cell_type": "markdown",
   "metadata": {},
   "source": [
    "# Computing descriptive statistics, correlation"
   ]
  },
  {
   "cell_type": "code",
   "execution_count": 19,
   "metadata": {},
   "outputs": [
    {
     "data": {
      "text/html": [
       "<div>\n",
       "<style>\n",
       "    .dataframe thead tr:only-child th {\n",
       "        text-align: right;\n",
       "    }\n",
       "\n",
       "    .dataframe thead th {\n",
       "        text-align: left;\n",
       "    }\n",
       "\n",
       "    .dataframe tbody tr th {\n",
       "        vertical-align: top;\n",
       "    }\n",
       "</style>\n",
       "<table border=\"1\" class=\"dataframe\">\n",
       "  <thead>\n",
       "    <tr style=\"text-align: right;\">\n",
       "      <th></th>\n",
       "      <th>a</th>\n",
       "      <th>b</th>\n",
       "      <th>c</th>\n",
       "      <th>d</th>\n",
       "      <th>e</th>\n",
       "      <th>f</th>\n",
       "      <th>g</th>\n",
       "      <th>h</th>\n",
       "      <th>i</th>\n",
       "      <th>j</th>\n",
       "      <th>sum</th>\n",
       "      <th>mean</th>\n",
       "      <th>max</th>\n",
       "      <th>min</th>\n",
       "    </tr>\n",
       "  </thead>\n",
       "  <tbody>\n",
       "    <tr>\n",
       "      <th>a</th>\n",
       "      <td>1.000000</td>\n",
       "      <td>0.212924</td>\n",
       "      <td>-0.035569</td>\n",
       "      <td>0.294352</td>\n",
       "      <td>0.112748</td>\n",
       "      <td>-0.378507</td>\n",
       "      <td>-0.378807</td>\n",
       "      <td>0.287327</td>\n",
       "      <td>0.209175</td>\n",
       "      <td>-0.005804</td>\n",
       "      <td>0.449891</td>\n",
       "      <td>0.449891</td>\n",
       "      <td>0.349498</td>\n",
       "      <td>0.062234</td>\n",
       "    </tr>\n",
       "    <tr>\n",
       "      <th>b</th>\n",
       "      <td>0.212924</td>\n",
       "      <td>1.000000</td>\n",
       "      <td>-0.699359</td>\n",
       "      <td>0.381586</td>\n",
       "      <td>-0.349282</td>\n",
       "      <td>-0.269271</td>\n",
       "      <td>-0.381273</td>\n",
       "      <td>-0.037940</td>\n",
       "      <td>-0.382261</td>\n",
       "      <td>0.077848</td>\n",
       "      <td>-0.102834</td>\n",
       "      <td>-0.102834</td>\n",
       "      <td>-0.546884</td>\n",
       "      <td>0.339736</td>\n",
       "    </tr>\n",
       "    <tr>\n",
       "      <th>c</th>\n",
       "      <td>-0.035569</td>\n",
       "      <td>-0.699359</td>\n",
       "      <td>1.000000</td>\n",
       "      <td>-0.710829</td>\n",
       "      <td>-0.176514</td>\n",
       "      <td>0.513775</td>\n",
       "      <td>0.053662</td>\n",
       "      <td>0.489575</td>\n",
       "      <td>0.508858</td>\n",
       "      <td>0.266490</td>\n",
       "      <td>0.329405</td>\n",
       "      <td>0.329405</td>\n",
       "      <td>0.455182</td>\n",
       "      <td>-0.069089</td>\n",
       "    </tr>\n",
       "    <tr>\n",
       "      <th>d</th>\n",
       "      <td>0.294352</td>\n",
       "      <td>0.381586</td>\n",
       "      <td>-0.710829</td>\n",
       "      <td>1.000000</td>\n",
       "      <td>0.366708</td>\n",
       "      <td>-0.632922</td>\n",
       "      <td>0.015975</td>\n",
       "      <td>-0.231023</td>\n",
       "      <td>-0.309765</td>\n",
       "      <td>0.056602</td>\n",
       "      <td>0.228516</td>\n",
       "      <td>0.228516</td>\n",
       "      <td>-0.106182</td>\n",
       "      <td>0.486669</td>\n",
       "    </tr>\n",
       "    <tr>\n",
       "      <th>e</th>\n",
       "      <td>0.112748</td>\n",
       "      <td>-0.349282</td>\n",
       "      <td>-0.176514</td>\n",
       "      <td>0.366708</td>\n",
       "      <td>1.000000</td>\n",
       "      <td>-0.274663</td>\n",
       "      <td>0.231637</td>\n",
       "      <td>-0.247174</td>\n",
       "      <td>-0.070520</td>\n",
       "      <td>-0.322511</td>\n",
       "      <td>0.109336</td>\n",
       "      <td>0.109336</td>\n",
       "      <td>0.518991</td>\n",
       "      <td>-0.107652</td>\n",
       "    </tr>\n",
       "    <tr>\n",
       "      <th>f</th>\n",
       "      <td>-0.378507</td>\n",
       "      <td>-0.269271</td>\n",
       "      <td>0.513775</td>\n",
       "      <td>-0.632922</td>\n",
       "      <td>-0.274663</td>\n",
       "      <td>1.000000</td>\n",
       "      <td>0.035187</td>\n",
       "      <td>0.010529</td>\n",
       "      <td>-0.067569</td>\n",
       "      <td>-0.276620</td>\n",
       "      <td>-0.247962</td>\n",
       "      <td>-0.247962</td>\n",
       "      <td>-0.278057</td>\n",
       "      <td>-0.171880</td>\n",
       "    </tr>\n",
       "    <tr>\n",
       "      <th>g</th>\n",
       "      <td>-0.378807</td>\n",
       "      <td>-0.381273</td>\n",
       "      <td>0.053662</td>\n",
       "      <td>0.015975</td>\n",
       "      <td>0.231637</td>\n",
       "      <td>0.035187</td>\n",
       "      <td>1.000000</td>\n",
       "      <td>0.223614</td>\n",
       "      <td>-0.355210</td>\n",
       "      <td>0.148149</td>\n",
       "      <td>0.267293</td>\n",
       "      <td>0.267293</td>\n",
       "      <td>0.229693</td>\n",
       "      <td>0.037697</td>\n",
       "    </tr>\n",
       "    <tr>\n",
       "      <th>h</th>\n",
       "      <td>0.287327</td>\n",
       "      <td>-0.037940</td>\n",
       "      <td>0.489575</td>\n",
       "      <td>-0.231023</td>\n",
       "      <td>-0.247174</td>\n",
       "      <td>0.010529</td>\n",
       "      <td>0.223614</td>\n",
       "      <td>1.000000</td>\n",
       "      <td>0.018944</td>\n",
       "      <td>0.729278</td>\n",
       "      <td>0.799248</td>\n",
       "      <td>0.799248</td>\n",
       "      <td>0.486501</td>\n",
       "      <td>0.409556</td>\n",
       "    </tr>\n",
       "    <tr>\n",
       "      <th>i</th>\n",
       "      <td>0.209175</td>\n",
       "      <td>-0.382261</td>\n",
       "      <td>0.508858</td>\n",
       "      <td>-0.309765</td>\n",
       "      <td>-0.070520</td>\n",
       "      <td>-0.067569</td>\n",
       "      <td>-0.355210</td>\n",
       "      <td>0.018944</td>\n",
       "      <td>1.000000</td>\n",
       "      <td>-0.055750</td>\n",
       "      <td>0.140023</td>\n",
       "      <td>0.140023</td>\n",
       "      <td>0.490619</td>\n",
       "      <td>-0.259282</td>\n",
       "    </tr>\n",
       "    <tr>\n",
       "      <th>j</th>\n",
       "      <td>-0.005804</td>\n",
       "      <td>0.077848</td>\n",
       "      <td>0.266490</td>\n",
       "      <td>0.056602</td>\n",
       "      <td>-0.322511</td>\n",
       "      <td>-0.276620</td>\n",
       "      <td>0.148149</td>\n",
       "      <td>0.729278</td>\n",
       "      <td>-0.055750</td>\n",
       "      <td>1.000000</td>\n",
       "      <td>0.660960</td>\n",
       "      <td>0.660960</td>\n",
       "      <td>0.182547</td>\n",
       "      <td>0.725930</td>\n",
       "    </tr>\n",
       "    <tr>\n",
       "      <th>sum</th>\n",
       "      <td>0.449891</td>\n",
       "      <td>-0.102834</td>\n",
       "      <td>0.329405</td>\n",
       "      <td>0.228516</td>\n",
       "      <td>0.109336</td>\n",
       "      <td>-0.247962</td>\n",
       "      <td>0.267293</td>\n",
       "      <td>0.799248</td>\n",
       "      <td>0.140023</td>\n",
       "      <td>0.660960</td>\n",
       "      <td>1.000000</td>\n",
       "      <td>1.000000</td>\n",
       "      <td>0.623979</td>\n",
       "      <td>0.629065</td>\n",
       "    </tr>\n",
       "    <tr>\n",
       "      <th>mean</th>\n",
       "      <td>0.449891</td>\n",
       "      <td>-0.102834</td>\n",
       "      <td>0.329405</td>\n",
       "      <td>0.228516</td>\n",
       "      <td>0.109336</td>\n",
       "      <td>-0.247962</td>\n",
       "      <td>0.267293</td>\n",
       "      <td>0.799248</td>\n",
       "      <td>0.140023</td>\n",
       "      <td>0.660960</td>\n",
       "      <td>1.000000</td>\n",
       "      <td>1.000000</td>\n",
       "      <td>0.623979</td>\n",
       "      <td>0.629065</td>\n",
       "    </tr>\n",
       "    <tr>\n",
       "      <th>max</th>\n",
       "      <td>0.349498</td>\n",
       "      <td>-0.546884</td>\n",
       "      <td>0.455182</td>\n",
       "      <td>-0.106182</td>\n",
       "      <td>0.518991</td>\n",
       "      <td>-0.278057</td>\n",
       "      <td>0.229693</td>\n",
       "      <td>0.486501</td>\n",
       "      <td>0.490619</td>\n",
       "      <td>0.182547</td>\n",
       "      <td>0.623979</td>\n",
       "      <td>0.623979</td>\n",
       "      <td>1.000000</td>\n",
       "      <td>-0.094935</td>\n",
       "    </tr>\n",
       "    <tr>\n",
       "      <th>min</th>\n",
       "      <td>0.062234</td>\n",
       "      <td>0.339736</td>\n",
       "      <td>-0.069089</td>\n",
       "      <td>0.486669</td>\n",
       "      <td>-0.107652</td>\n",
       "      <td>-0.171880</td>\n",
       "      <td>0.037697</td>\n",
       "      <td>0.409556</td>\n",
       "      <td>-0.259282</td>\n",
       "      <td>0.725930</td>\n",
       "      <td>0.629065</td>\n",
       "      <td>0.629065</td>\n",
       "      <td>-0.094935</td>\n",
       "      <td>1.000000</td>\n",
       "    </tr>\n",
       "  </tbody>\n",
       "</table>\n",
       "</div>"
      ],
      "text/plain": [
       "             a         b         c         d         e         f         g  \\\n",
       "a     1.000000  0.212924 -0.035569  0.294352  0.112748 -0.378507 -0.378807   \n",
       "b     0.212924  1.000000 -0.699359  0.381586 -0.349282 -0.269271 -0.381273   \n",
       "c    -0.035569 -0.699359  1.000000 -0.710829 -0.176514  0.513775  0.053662   \n",
       "d     0.294352  0.381586 -0.710829  1.000000  0.366708 -0.632922  0.015975   \n",
       "e     0.112748 -0.349282 -0.176514  0.366708  1.000000 -0.274663  0.231637   \n",
       "f    -0.378507 -0.269271  0.513775 -0.632922 -0.274663  1.000000  0.035187   \n",
       "g    -0.378807 -0.381273  0.053662  0.015975  0.231637  0.035187  1.000000   \n",
       "h     0.287327 -0.037940  0.489575 -0.231023 -0.247174  0.010529  0.223614   \n",
       "i     0.209175 -0.382261  0.508858 -0.309765 -0.070520 -0.067569 -0.355210   \n",
       "j    -0.005804  0.077848  0.266490  0.056602 -0.322511 -0.276620  0.148149   \n",
       "sum   0.449891 -0.102834  0.329405  0.228516  0.109336 -0.247962  0.267293   \n",
       "mean  0.449891 -0.102834  0.329405  0.228516  0.109336 -0.247962  0.267293   \n",
       "max   0.349498 -0.546884  0.455182 -0.106182  0.518991 -0.278057  0.229693   \n",
       "min   0.062234  0.339736 -0.069089  0.486669 -0.107652 -0.171880  0.037697   \n",
       "\n",
       "             h         i         j       sum      mean       max       min  \n",
       "a     0.287327  0.209175 -0.005804  0.449891  0.449891  0.349498  0.062234  \n",
       "b    -0.037940 -0.382261  0.077848 -0.102834 -0.102834 -0.546884  0.339736  \n",
       "c     0.489575  0.508858  0.266490  0.329405  0.329405  0.455182 -0.069089  \n",
       "d    -0.231023 -0.309765  0.056602  0.228516  0.228516 -0.106182  0.486669  \n",
       "e    -0.247174 -0.070520 -0.322511  0.109336  0.109336  0.518991 -0.107652  \n",
       "f     0.010529 -0.067569 -0.276620 -0.247962 -0.247962 -0.278057 -0.171880  \n",
       "g     0.223614 -0.355210  0.148149  0.267293  0.267293  0.229693  0.037697  \n",
       "h     1.000000  0.018944  0.729278  0.799248  0.799248  0.486501  0.409556  \n",
       "i     0.018944  1.000000 -0.055750  0.140023  0.140023  0.490619 -0.259282  \n",
       "j     0.729278 -0.055750  1.000000  0.660960  0.660960  0.182547  0.725930  \n",
       "sum   0.799248  0.140023  0.660960  1.000000  1.000000  0.623979  0.629065  \n",
       "mean  0.799248  0.140023  0.660960  1.000000  1.000000  0.623979  0.629065  \n",
       "max   0.486501  0.490619  0.182547  0.623979  0.623979  1.000000 -0.094935  \n",
       "min   0.409556 -0.259282  0.725930  0.629065  0.629065 -0.094935  1.000000  "
      ]
     },
     "execution_count": 19,
     "metadata": {},
     "output_type": "execute_result"
    }
   ],
   "source": [
    "df = pd.DataFrame(np.random.randn(10,10),index=range(10),columns=['a','b','c','d','e','f','g','h','i','j'])\n",
    "df['sum'],df['mean'],df['max'],df['min'] = df.sum(axis=1),df.mean(axis=1),df.max(axis=1),df.min(axis=1)\n",
    "df.describe()\n",
    "df.corr()"
   ]
  },
  {
   "cell_type": "markdown",
   "metadata": {},
   "source": [
    "# Hierarchical Indexing to be continued..."
   ]
  },
  {
   "cell_type": "code",
   "execution_count": null,
   "metadata": {
    "collapsed": true
   },
   "outputs": [],
   "source": []
  }
 ],
 "metadata": {
  "kernelspec": {
   "display_name": "Python 3",
   "language": "python",
   "name": "python3"
  },
  "language_info": {
   "codemirror_mode": {
    "name": "ipython",
    "version": 3
   },
   "file_extension": ".py",
   "mimetype": "text/x-python",
   "name": "python",
   "nbconvert_exporter": "python",
   "pygments_lexer": "ipython3",
   "version": "3.6.3"
  }
 },
 "nbformat": 4,
 "nbformat_minor": 2
}
